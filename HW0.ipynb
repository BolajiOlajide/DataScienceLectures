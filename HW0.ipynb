{
 "cells": [
  {
   "cell_type": "code",
   "execution_count": 2,
   "metadata": {
    "collapsed": false
   },
   "outputs": [
    {
     "name": "stdout",
     "output_type": "stream",
     "text": [
      "IPython version:       5.1.0 (need at least 1.0)\n",
      "Numpy version:        1.11.3 (need at least 1.7.1)\n",
      "SciPy version:        0.18.1 (need at least 0.12.0)\n",
      "Pandas version:       0.19.2 (need at least 0.11.0)\n",
      "Mapltolib version:     2.0.0 (need at least 1.2.1)\n",
      "Scikit-Learn version: 0.18.1 (need at least 0.13.1)\n",
      "requests version:     2.12.4 (need at least 1.2.3)\n",
      "NetworkX version:       1.11 (need at least 1.7)\n",
      "BeautifulSoup version: 4.5.3 (need at least 3.2)\n",
      "Mr Job version:       0.5.10 (need at least 0.4)\n"
     ]
    }
   ],
   "source": [
    "#IPython is what you are using now to run the notebook\n",
    "import IPython\n",
    "print(\"IPython version:      %6.6s (need at least 1.0)\" % IPython.__version__)\n",
    "\n",
    "# Numpy is a library for working with Arrays\n",
    "import numpy as np\n",
    "print(\"Numpy version:        %6.6s (need at least 1.7.1)\" % np.__version__) \n",
    "\n",
    "# SciPy implements many different numerical algorithms\n",
    "import scipy as sp\n",
    "print(\"SciPy version:        %6.6s (need at least 0.12.0)\" % sp.__version__) \n",
    "\n",
    "# Pandas makes working with data tables easier\n",
    "import pandas as pd\n",
    "print(\"Pandas version:       %6.6s (need at least 0.11.0)\" % pd.__version__) \n",
    "\n",
    "# Module for plotting\n",
    "import matplotlib\n",
    "print(\"Mapltolib version:    %6.6s (need at least 1.2.1)\" % matplotlib.__version__) \n",
    "\n",
    "# SciKit Learn implements several Machine Learning algorithms\n",
    "import sklearn\n",
    "print(\"Scikit-Learn version: %6.6s (need at least 0.13.1)\" % sklearn.__version__) \n",
    "\n",
    "# Requests is a library for getting data from the Web\n",
    "import requests\n",
    "print(\"requests version:     %6.6s (need at least 1.2.3)\" % requests.__version__) \n",
    "\n",
    "# Networkx is a library for working with networks\n",
    "import networkx as nx\n",
    "print(\"NetworkX version:     %6.6s (need at least 1.7)\" % nx.__version__)\n",
    "\n",
    "#BeautifulSoup is a library to parse HTML and XML documents\n",
    "import bs4 as BeautifulSoup\n",
    "print(\"BeautifulSoup version:%6.6s (need at least 3.2)\" % BeautifulSoup.__version__) \n",
    "\n",
    "#MrJob is a library to run map reduce jobs on Amazon's computers\n",
    "import mrjob\n",
    "print(\"Mr Job version:       %6.6s (need at least 0.4)\" % mrjob.__version__) \n",
    "\n",
    "#Pattern has lots of tools for working with data from the internet\n",
    "# import pattern\n",
    "# print(\"Pattern version:      %6.6s (need at least 2.6)\" % pattern.__version__) "
   ]
  },
  {
   "cell_type": "code",
   "execution_count": 2,
   "metadata": {
    "collapsed": false
   },
   "outputs": [
    {
     "name": "stdout",
     "output_type": "stream",
     "text": [
      "Item is  10\n",
      "Item is  20\n",
      "Item is  30\n",
      "Item is  40\n",
      "Item is  50\n"
     ]
    }
   ],
   "source": [
    "x = [10, 20, 30, 40, 50]\n",
    "for item in x:\n",
    "    print \"Item is \", item"
   ]
  },
  {
   "cell_type": "code",
   "execution_count": 3,
   "metadata": {
    "collapsed": false
   },
   "outputs": [
    {
     "data": {
      "text/plain": [
       "<matplotlib.text.Text at 0x1147a9950>"
      ]
     },
     "execution_count": 3,
     "metadata": {},
     "output_type": "execute_result"
    },
    {
     "data": {
      "image/png": "[encoded data removed]",
      "text/plain": [
       "<matplotlib.figure.Figure at 0x10a0662d0>"
      ]
     },
     "metadata": {},
     "output_type": "display_data"
    }
   ],
   "source": [
    "#this line prepares IPython for working with matplotlib\n",
    "%matplotlib inline  \n",
    "\n",
    "# this actually imports matplotlib\n",
    "import matplotlib.pyplot as plt  \n",
    "\n",
    "x = np.linspace(0, 10, 30)  #array of 30 points from 0 to 10\n",
    "y = np.sin(x)\n",
    "z = y + np.random.normal(size=30) * .2\n",
    "plt.plot(x, y, 'ro-', label='A sine wave')\n",
    "plt.plot(x, z, 'b-', label='Noisy sine')\n",
    "plt.legend(loc = 'lower right')\n",
    "plt.xlabel(\"X axis\")\n",
    "plt.ylabel(\"Y axis\")"
   ]
  },
  {
   "cell_type": "code",
   "execution_count": 4,
   "metadata": {
    "collapsed": false
   },
   "outputs": [
    {
     "name": "stdout",
     "output_type": "stream",
     "text": [
      "Make a 3 row x 4 column array of random numbers\n",
      "[[ 0.64892801  0.3197134   0.67203013  0.67780089]\n",
      " [ 0.39207799  0.91134433  0.74040748  0.74041073]\n",
      " [ 0.53334768  0.36204677  0.66367731  0.68535726]]\n",
      "\n",
      "Add 1 to every element\n",
      "[[ 1.64892801  1.3197134   1.67203013  1.67780089]\n",
      " [ 1.39207799  1.91134433  1.74040748  1.74041073]\n",
      " [ 1.53334768  1.36204677  1.66367731  1.68535726]]\n",
      "\n",
      "Get the element at row 1, column 2\n",
      "1.74040748\n",
      "\n",
      "Get the first row\n",
      "[ 1.64892801  1.3197134   1.67203013  1.67780089]\n",
      "\n",
      "Get every 2nd column of the first row\n",
      "[ 1.64892801  1.67203013]\n",
      "\n"
     ]
    }
   ],
   "source": [
    "print(\"Make a 3 row x 4 column array of random numbers\")\n",
    "x = np.random.random((3, 4))\n",
    "print(x)\n",
    "print(\"\")\n",
    "\n",
    "print(\"Add 1 to every element\")\n",
    "x = x + 1\n",
    "print(x)\n",
    "print(\"\")\n",
    "\n",
    "print(\"Get the element at row 1, column 2\")\n",
    "print(x[1, 2])\n",
    "print(\"\")\n",
    "\n",
    "# The colon syntax is called \"slicing\" the array. \n",
    "print(\"Get the first row\")\n",
    "print(x[0, :])\n",
    "print(\"\")\n",
    "\n",
    "print(\"Get every 2nd column of the first row\")\n",
    "print(x[0, ::2])\n",
    "print(\"\")"
   ]
  },
  {
   "cell_type": "code",
   "execution_count": 5,
   "metadata": {
    "collapsed": false
   },
   "outputs": [
    {
     "data": {
      "text/plain": [
       "1.9113443272529218"
      ]
     },
     "execution_count": 5,
     "metadata": {},
     "output_type": "execute_result"
    }
   ],
   "source": [
    "x.max()"
   ]
  },
  {
   "cell_type": "code",
   "execution_count": 6,
   "metadata": {
    "collapsed": false
   },
   "outputs": [
    {
     "data": {
      "text/plain": [
       "1.6122618302837892"
      ]
     },
     "execution_count": 6,
     "metadata": {},
     "output_type": "execute_result"
    }
   ],
   "source": [
    "x.mean()"
   ]
  },
  {
   "cell_type": "code",
   "execution_count": 7,
   "metadata": {
    "collapsed": false
   },
   "outputs": [
    {
     "data": {
      "text/plain": [
       "1.3197133964514318"
      ]
     },
     "execution_count": 7,
     "metadata": {},
     "output_type": "execute_result"
    }
   ],
   "source": [
    "x.min()"
   ]
  },
  {
   "cell_type": "code",
   "execution_count": 8,
   "metadata": {
    "collapsed": false
   },
   "outputs": [
    {
     "data": {
      "text/plain": [
       "array([ 1.67780089,  1.91134433,  1.68535726])"
      ]
     },
     "execution_count": 8,
     "metadata": {},
     "output_type": "execute_result"
    }
   ],
   "source": [
    "x.max(axis=1)"
   ]
  },
  {
   "cell_type": "code",
   "execution_count": 9,
   "metadata": {
    "collapsed": false
   },
   "outputs": [
    {
     "name": "stdout",
     "output_type": "stream",
     "text": [
      "('number of heads:', 262)\n"
     ]
    }
   ],
   "source": [
    "b = np.random.binomial(500, .5)\n",
    "print(\"number of heads:\", b)"
   ]
  },
  {
   "cell_type": "code",
   "execution_count": 10,
   "metadata": {
    "collapsed": false
   },
   "outputs": [
    {
     "data": {
      "image/png": "[encoded data removed]",
      "text/plain": [
       "<matplotlib.figure.Figure at 0x10a066490>"
      ]
     },
     "metadata": {},
     "output_type": "display_data"
    }
   ],
   "source": [
    "#this line prepares IPython for working with matplotlib\n",
    "%matplotlib inline  \n",
    "\n",
    "# this actually imports matplotlib\n",
    "import matplotlib.pyplot as plt\n",
    "\n",
    "n = 0\n",
    "head = []\n",
    "while n < 500:\n",
    "    b = np.random.binomial(500, .5)\n",
    "    head.append(b)\n",
    "    n+=1\n",
    "    \n",
    "plt.hist(head)\n",
    "plt.title(\"Head Frequency\")\n",
    "plt.xlabel(\"Value\")\n",
    "plt.ylabel(\"Frequency\")\n",
    "plt.show()"
   ]
  },
  {
   "cell_type": "code",
   "execution_count": 11,
   "metadata": {
    "collapsed": false
   },
   "outputs": [
    {
     "name": "stdout",
     "output_type": "stream",
     "text": [
      "[2, 2, 1]\n"
     ]
    }
   ],
   "source": [
    "from random import randint, choice\n",
    "\n",
    "\n",
    "def simulate_prizedoor(nsim):\n",
    "    sims = []\n",
    "    n = 0\n",
    "    while n < nsim:\n",
    "        n = n + 1\n",
    "        sims.append(randint(0, 2))\n",
    "    return sims\n",
    "\n",
    "print(simulate_prizedoor(3))"
   ]
  },
  {
   "cell_type": "code",
   "execution_count": 12,
   "metadata": {
    "collapsed": false
   },
   "outputs": [
    {
     "name": "stdout",
     "output_type": "stream",
     "text": [
      "[1, 0, 0, 1, 2]\n"
     ]
    }
   ],
   "source": [
    "\"\"\"\n",
    "Function\n",
    "--------\n",
    "simulate_guess\n",
    "\n",
    "Return any strategy for guessing which door a prize is behind. This\n",
    "could be a random strategy, one that always guesses 2, whatever.\n",
    "\n",
    "Parameters\n",
    "----------\n",
    "nsim : int\n",
    "    The number of simulations to generate guesses for\n",
    "\n",
    "Returns\n",
    "-------\n",
    "guesses : array\n",
    "    An array of guesses. Each guess is a 0, 1, or 2\n",
    "\n",
    "Example\n",
    "-------\n",
    ">>> print simulate_guess(5)\n",
    "array([0, 0, 0, 0, 0])\n",
    "\"\"\"\n",
    "def simulate_guess(nsim):\n",
    "    sims = []\n",
    "    n = 0\n",
    "    while n < nsim:\n",
    "        n = n + 1\n",
    "        sims.append(randint(0, 2))\n",
    "    return sims\n",
    "print(simulate_guess(5))"
   ]
  },
  {
   "cell_type": "code",
   "execution_count": 13,
   "metadata": {
    "collapsed": false
   },
   "outputs": [
    {
     "name": "stdout",
     "output_type": "stream",
     "text": [
      "[2, 0, 0]\n"
     ]
    }
   ],
   "source": [
    "\n",
    "\"\"\"\n",
    "Function\n",
    "--------\n",
    "goat_door\n",
    "\n",
    "Simulate the opening of a \"goat door\" that doesn't contain the prize,\n",
    "and is different from the contestants guess\n",
    "\n",
    "Parameters\n",
    "----------\n",
    "prizedoors : array\n",
    "    The door that the prize is behind in each simulation\n",
    "guesses : array\n",
    "    THe door that the contestant guessed in each simulation\n",
    "\n",
    "Returns\n",
    "-------\n",
    "goats : array\n",
    "    The goat door that is opened for each simulation. Each item is 0, 1, or 2, and is different\n",
    "    from both prizedoors and guesses\n",
    "\n",
    "Examples\n",
    "--------\n",
    ">>> print goat_door(np.array([0, 1, 2]), np.array([1, 1, 1]))\n",
    ">>> array([2, 2, 0])\n",
    "\"\"\"\n",
    "def goat_door(arr1, arr2):\n",
    "    n = 0\n",
    "    goatDoors = []\n",
    "    while n < len(arr2):\n",
    "        possibility = [0, 1, 2]\n",
    "        if arr1[n] == arr2[n]:\n",
    "            possibility.remove(arr1[n])\n",
    "            goatDoors.append(choice(possibility))\n",
    "            n = n + 1\n",
    "        else:\n",
    "            possibility.remove(arr1[n])\n",
    "            possibility.remove(arr2[n])\n",
    "            goatDoors.append(possibility[0])\n",
    "            n = n + 1\n",
    "    return goatDoors\n",
    "        \n",
    "print(goat_door(np.array([0, 1, 2]), np.array([1, 1, 1])))"
   ]
  },
  {
   "cell_type": "code",
   "execution_count": 14,
   "metadata": {
    "collapsed": false
   },
   "outputs": [
    {
     "name": "stdout",
     "output_type": "stream",
     "text": [
      "[2, 0, 0]\n"
     ]
    }
   ],
   "source": [
    "\"\"\"\n",
    "Function\n",
    "--------\n",
    "switch_guess\n",
    "\n",
    "The strategy that always switches a guess after the goat door is opened\n",
    "\n",
    "Parameters\n",
    "----------\n",
    "guesses : array\n",
    "     Array of original guesses, for each simulation\n",
    "goatdoors : array\n",
    "     Array of revealed goat doors for each simulation\n",
    "\n",
    "Returns\n",
    "-------\n",
    "The new door after switching. Should be different from both guesses and goatdoors\n",
    "\n",
    "Examples\n",
    "--------\n",
    ">>> print switch_guess(np.array([0, 1, 2]), np.array([1, 2, 1]))\n",
    ">>> array([2, 0, 0])\n",
    "\"\"\"\n",
    "def switch_guess(arr1, arr2):\n",
    "    n = 0\n",
    "    goatDoors = []\n",
    "    while n < len(arr2):\n",
    "        possibility = [0, 1, 2]\n",
    "        if arr1[n] == arr2[n]:\n",
    "            possibility.remove(arr1[n])\n",
    "            goatDoors.append(choice(possibility))\n",
    "            n = n + 1\n",
    "        else:\n",
    "            possibility.remove(arr1[n])\n",
    "            possibility.remove(arr2[n])\n",
    "            goatDoors.append(possibility[0])\n",
    "            n = n + 1\n",
    "    return goatDoors\n",
    "\n",
    "print(switch_guess(np.array([0, 1, 2]), np.array([1, 2, 1])))"
   ]
  },
  {
   "cell_type": "code",
   "execution_count": 15,
   "metadata": {
    "collapsed": false
   },
   "outputs": [
    {
     "name": "stdout",
     "output_type": "stream",
     "text": [
      "33.3333333333\n"
     ]
    }
   ],
   "source": [
    "\"\"\"\n",
    "Function\n",
    "--------\n",
    "win_percentage\n",
    "\n",
    "Calculate the percent of times that a simulation of guesses is correct\n",
    "\n",
    "Parameters\n",
    "-----------\n",
    "guesses : array\n",
    "    Guesses for each simulation\n",
    "prizedoors : array\n",
    "    Location of prize for each simulation\n",
    "\n",
    "Returns\n",
    "--------\n",
    "percentage : number between 0 and 100\n",
    "    The win percentage\n",
    "\n",
    "Examples\n",
    "---------\n",
    ">>> print win_percentage(np.array([0, 1, 2]), np.array([0, 0, 0]))\n",
    "33.333\n",
    "\"\"\"\n",
    "def win_percentage(arr1, arr2):\n",
    "    denominator = len(arr1)\n",
    "    correct_guesses = 0\n",
    "    n = 0\n",
    "    while n < denominator:\n",
    "        if arr1[n] == arr2[n]:\n",
    "            correct_guesses += 1\n",
    "        n = n + 1\n",
    "    percentage = (correct_guesses/float(denominator)) * 100\n",
    "    return percentage\n",
    "\n",
    "print(win_percentage(np.array([0, 1, 2]), np.array([0, 0, 0])))"
   ]
  },
  {
   "cell_type": "code",
   "execution_count": 21,
   "metadata": {
    "collapsed": false
   },
   "outputs": [
    {
     "name": "stdout",
     "output_type": "stream",
     "text": [
      "\n",
      "34.03\n"
     ]
    }
   ],
   "source": [
    "# simulate contestant's guess and prizedoors and don't change the user's guess.\n",
    "\n",
    "nsim = 10000\n",
    "user_guess = simulate_guess(nsim)\n",
    "prizedoors = simulate_prizedoor(nsim)\n",
    "\n",
    "goat_doors = goat_door(user_guess,prizedoors)\n",
    "print win_percentage(user_guess,prizedoors)"
   ]
  },
  {
   "cell_type": "code",
   "execution_count": 22,
   "metadata": {
    "collapsed": false
   },
   "outputs": [
    {
     "name": "stdout",
     "output_type": "stream",
     "text": [
      "67.19\n"
     ]
    }
   ],
   "source": [
    "nsim = 10000\n",
    "user_guess = simulate_guess(nsim)\n",
    "prizedoors = simulate_prizedoor(nsim)\n",
    "\n",
    "goat_doors = goat_door(user_guess,prizedoors)\n",
    "new_guess = switch_guess(user_guess, goat_doors)\n",
    "print win_percentage(new_guess,prizedoors)"
   ]
  },
  {
   "cell_type": "code",
   "execution_count": null,
   "metadata": {
    "collapsed": true
   },
   "outputs": [],
   "source": []
  }
 ],
 "metadata": {
  "kernelspec": {
   "display_name": "Python 2",
   "language": "python",
   "name": "python2"
  },
  "language_info": {
   "codemirror_mode": {
    "name": "ipython",
    "version": 2
   },
   "file_extension": ".py",
   "mimetype": "text/x-python",
   "name": "python",
   "nbconvert_exporter": "python",
   "pygments_lexer": "ipython2",
   "version": "2.7.13"
  }
 },
 "nbformat": 4,
 "nbformat_minor": 2
}
